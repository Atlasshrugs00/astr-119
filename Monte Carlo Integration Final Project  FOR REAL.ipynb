{
 "cells": [
  {
   "cell_type": "markdown",
   "id": "394d4aeb",
   "metadata": {},
   "source": [
    "# Monte Carlo Integration by Mason Kennedy ASTR 119 "
   ]
  },
  {
   "cell_type": "markdown",
   "id": "32c994c0",
   "metadata": {},
   "source": [
    "Here I will delcare all the necessary data packs for the following code to work. Other than the usual Numpy and Matplotlib, I will be using scipy's 'random' library for its built in random number generator."
   ]
  },
  {
   "cell_type": "code",
   "execution_count": null,
   "id": "77ae86c1",
   "metadata": {},
   "outputs": [],
   "source": [
    "from scipy import random\n",
    "import numpy as np\n",
    "import matplotlib.pyplot as plt\n",
    "%matplotlib inline"
   ]
  },
  {
   "cell_type": "markdown",
   "id": "711d947c",
   "metadata": {},
   "source": [
    "Here is our function of interest cos(x). We will keep this as a function so we can repeatedly call it whenever needed."
   ]
  },
  {
   "cell_type": "code",
   "execution_count": null,
   "id": "262895e7",
   "metadata": {},
   "outputs": [],
   "source": [
    "def function(x):\n",
    "    return np.cos(x)"
   ]
  },
  {
   "cell_type": "markdown",
   "id": "6371d1d2",
   "metadata": {},
   "source": [
    "Here I calculate the necessary c and d limits of integration. For Monte Carlo Integration, we want to multiply our ratio by the total area of our region (d-c)(b-a). It is rather easy then to see that d should be the maximum of the function and c should be the minimum. However, what if we test on an all positive interval? Suppose then that d > c > 0. In such case, our integral is all wrong because an integral by definition must be to y = 0. Thankfully, the fix is as easy an setting an 'if' case that makes c = 0 if the minimum of the function is greater than 0. Similary, on an all negative interval, setting d = 0 fixes our integral approximation."
   ]
  },
  {
   "cell_type": "code",
   "execution_count": null,
   "id": "9ec70cbe",
   "metadata": {},
   "outputs": [],
   "source": [
    "def get_d(f, a, b, N):\n",
    "    #create necessary arrays\n",
    "    x_range = np.linspace(a, b, N)\n",
    "    y_range = np.zeros(N)\n",
    "    \n",
    "    for i in range(N):\n",
    "        y_range[i] = f(x_range[i])\n",
    "    d = np.amax(y_range)\n",
    "    \n",
    "    if(d < 0):\n",
    "        d = 0\n",
    "        return d\n",
    "    \n",
    "    return d\n",
    "\n",
    "def get_c(f, a, b, N):\n",
    "    x_range = np.linspace(a, b, N)\n",
    "    y_range = np.zeros(N)\n",
    "    \n",
    "    for i in range(N):\n",
    "        y_range[i] = f(x_range[i])\n",
    "    c = np.amin(y_range)\n",
    "    \n",
    "    if(c > 0):\n",
    "        c = 0\n",
    "        return c\n",
    "    \n",
    "    return c"
   ]
  },
  {
   "cell_type": "markdown",
   "id": "4df6ae49",
   "metadata": {},
   "source": [
    "Here I use scipy to create an array of N random float values between boundaries (a,b) and (c,d)"
   ]
  },
  {
   "cell_type": "code",
   "execution_count": null,
   "id": "3cc1e0f8",
   "metadata": {},
   "outputs": [],
   "source": [
    "def x_random_function(a, b, N):\n",
    "    return random.uniform(a, b, N)\n",
    "def y_random_function(c, d, N):\n",
    "    return random.uniform(c, d, N)"
   ]
  },
  {
   "cell_type": "markdown",
   "id": "acd0600e",
   "metadata": {},
   "source": [
    "Here these functions sorts the arrays of random x and y into arrays that account for 'over' and 'under' the function. In this case, 'over' the function refers to \"misses,\" and 'under' refers to \"hits\" by the random number generation; moreover, a hit is between the curve and x-axis, and a miss is anywhere else.\n",
    "\n",
    "Besides that, the functions check along the random number arrays sequentially for anything 'over' or 'under' the function, in which case they will be appended to another array accordingly. The resulst is 4 separate arrays of x and y over and under the function respectively.\n",
    "\n",
    "I chose to break up this sorting into positive and negative portions of the function. I also opted to not use 'else' statements when applicable and opted to be explicity careful with including terms in the various >=, <=, >, <, 'if,' and 'elif,' statements. It was extra work, but I'm confident my 'if' and 'elif' statements include all possible numbers. I should mention that I did use 'else' for any error debugging I could've overlooked.\n",
    "\n",
    "I'd also like to mention that this can be done easier with two dimensional arrays. Unfortunately, I didn't know how to use two dimensional arrays until after I wrote this function. Given that this function works, I don't see a need to change it."
   ]
  },
  {
   "cell_type": "code",
   "execution_count": null,
   "id": "29b5250e",
   "metadata": {},
   "outputs": [],
   "source": [
    "def x_over_function(f, a, b, c, d, N, x_mc_copy, y_mc_copy):\n",
    "    \n",
    "    x_mc_over = []\n",
    "    \n",
    "    for i in range(N):\n",
    "        if(f(x_mc_copy[i]) >= 0.0):\n",
    "            if(y_mc_copy[i] >= f(x_mc_copy[i])):\n",
    "                x_mc_over.append(x_mc_copy[i])\n",
    "            #this portion accounts for regions below the x-axis and curve\n",
    "            elif(y_mc_copy[i] < 0.0):\n",
    "                x_mc_over.append(x_mc_copy[i])\n",
    "                \n",
    "        elif(f(x_mc_copy[i]) < 0.0):\n",
    "            if(y_mc_copy[i] < f(x_mc_copy[i])):\n",
    "                x_mc_over.append(x_mc_copy[i])\n",
    "            #this portion accounts for regions above x-axis and curve\n",
    "            elif(y_mc_copy[i] >= 0.0):\n",
    "                x_mc_over.append(x_mc_copy[i])\n",
    "        else:\n",
    "            print(\"something terriblely unprecedented has happened! Please check function x_over\")\n",
    "            return 0\n",
    "            \n",
    "    return x_mc_over\n",
    "\n",
    "def y_over_function(f, a, b, c, d, N, x_mc_copy, y_mc_copy):\n",
    "    \n",
    "    y_mc_over = []\n",
    "    \n",
    "    for i in range(N):\n",
    "        if(f(x_mc_copy[i]) >= 0.0):\n",
    "            if(y_mc_copy[i] >= f(x_mc_copy[i])):\n",
    "                y_mc_over.append(y_mc_copy[i])\n",
    "            elif(y_mc_copy[i] < 0.0):\n",
    "                y_mc_over.append(y_mc_copy[i])\n",
    "                \n",
    "        elif(f(x_mc_copy[i]) < 0.0):\n",
    "            if(y_mc_copy[i] < f(x_mc_copy[i])):\n",
    "                y_mc_over.append(y_mc_copy[i])\n",
    "            elif(y_mc_copy[i] >= 0.0):\n",
    "                y_mc_over.append(y_mc_copy[i])\n",
    "        else:\n",
    "            print(\"something terriblely unprecedented has happened! Please check function y_over\")\n",
    "            return 0\n",
    "            \n",
    "    return y_mc_over\n",
    "\n",
    "def x_under_function(f, a, b, c, d, N, x_mc_copy, y_mc_copy):\n",
    "    \n",
    "    x_mc_under = []\n",
    "    \n",
    "    for i in range(N):\n",
    "        if(f(x_mc_copy[i]) >= 0.0):\n",
    "            if(0.0 <= y_mc_copy[i] < f(x_mc_copy[i])):\n",
    "                x_mc_under.append(x_mc_copy[i])\n",
    "                \n",
    "        elif(f(x_mc_copy[i]) < 0.0):\n",
    "            if(0.0 > y_mc_copy[i] >= f(x_mc_copy[i])):\n",
    "                x_mc_under.append(x_mc_copy[i])\n",
    "            \n",
    "        else:\n",
    "            print(\"something terriblely unprecedented has happened! Please check function x_under\")\n",
    "            return 0\n",
    "    return x_mc_under\n",
    "\n",
    "def y_under_function(f, a, b, c, d, N, x_mc_copy, y_mc_copy):\n",
    "    \n",
    "    y_mc_under = []\n",
    "    \n",
    "    for i in range(N):\n",
    "        if(f(x_mc_copy[i]) >= 0.0):\n",
    "            if(0.0 <= y_mc_copy[i] < f(x_mc_copy[i])):\n",
    "                y_mc_under.append(y_mc_copy[i])\n",
    "                \n",
    "        elif(f(x_mc_copy[i]) < 0.0):\n",
    "            if(0.0 > y_mc_copy[i] >= f(x_mc_copy[i])):\n",
    "                y_mc_under.append(y_mc_copy[i])\n",
    "        else:\n",
    "            print(\"something terriblely unprecedented has happened! Please check function y_under\")\n",
    "            return 0\n",
    "        \n",
    "    return y_mc_under"
   ]
  },
  {
   "cell_type": "markdown",
   "id": "cb2a80f5",
   "metadata": {},
   "source": [
    "I decided that for my error tolerance I will be comparing my Monte Carlo Integration to that of the Trapezoidal Integration; it really only seemed right given we closely studied and practiced this technique earlier in the quarter, so what better comparrison to be made against Monte Carlo?\n",
    "\n",
    "Anyway, Trapezoid_core defines the necessary mathematics of the trapezoid integral. Trapezoid_method creates an x array of equal sizes over the entire interval. Then, a tiny step size is created by using the difference between the second and first terms in this array of x's. From there I sequentially call the Trapezoid_core to add up each individual trapezoid."
   ]
  },
  {
   "cell_type": "code",
   "execution_count": null,
   "id": "2daf826d",
   "metadata": {},
   "outputs": [],
   "source": [
    "def trapezoid_core(f, x_trap, h):\n",
    "    return 0.5*h*(f(x_trap + h) + f(x_trap))\n",
    "\n",
    "def trapezoid_method(f, a, b, N):\n",
    "    x_trap = np.linspace(a, b, N)\n",
    "    \n",
    "    h = x_trap[1] - x_trap[0]\n",
    "    \n",
    "    trapezoid_integral = 0.0\n",
    "    \n",
    "    for i in range(0, len(x_trap) -1, 1):\n",
    "        trapezoid_integral += trapezoid_core(f, x_trap[i], h)\n",
    "        \n",
    "    return trapezoid_integral"
   ]
  },
  {
   "cell_type": "markdown",
   "id": "6c78c048",
   "metadata": {},
   "source": [
    "This is now the bread and butter and by far the hardest part of the program. I initialize an array for the progression of the Monte Carlo Integral over the iterations for a fun plot of error at the end of this program.\n",
    "\n",
    "I first initalize positive, negative, and ambigious totals. This is because I have to be very careful to subtract a Monte Carlo Integral if it's below the curve. Anyway, I create a loop that checks if the random y is greater than 0 and less than the function. In which case, the integral there will be positive so I add a count to the total positive. If the above case isn't satisfied, I check to see if the random y is greater than the function but less than 0. In which case, the integratl there will be negative so I add a count to the total negative. If neither of those are satisfied, I don't add anything to total positive or total negative. It's not necessary to write plus 0, but I think it gets my idea across better then leaving nothing there. Regardless of the above conditions, I must add count to the total.\n",
    "\n",
    "What proceeds that bulk is calculating the positive and negatives integrals and finding their difference; this difference of which is the true Monte Carlo Integral. I append a value to the array of integral values and then check to see if I've hit the tolerance of the trapezoid integral passed into this function. If I've hit the tolerance, there's no need to continue so I can simply return the integral array. If I never hit the tolerance, that's okay maybe I was unlucky or need more iterations.\n",
    "\n",
    "I would like to note that to a brief glance, it appears silly to multiply the total positive by the entire iterval (d-c)(b-a) and likewise for the total negative. However, if one were to do the math, we see that this (d-c)(b-a) can simply be distributed out of the calculation 'mc_integral = mc_integral_positive - mc_integral_negative.' Therefore, the multiplication of (d-c)(b-a), though maybe redundant, is not contributing to error."
   ]
  },
  {
   "cell_type": "code",
   "execution_count": null,
   "id": "e41ef056",
   "metadata": {},
   "outputs": [],
   "source": [
    "def montecarlo_integration(f, a, b, c, d, N, tolerance, x_mc, y_mc, trapezoid_integral):\n",
    "    #we will need this for later\n",
    "    mc_integral_array = []\n",
    "    \n",
    "    total_under_positive = 0.0\n",
    "    total_under_negative = 0.0\n",
    "    total = 0.0\n",
    "    \n",
    "    for i in range(N):\n",
    "        if(0 <= y_mc[i] < f(x_mc[i])):\n",
    "            total_under_positive += 1\n",
    "        elif(0 > y_mc[i] >= f(x_mc[i])):\n",
    "            total_under_negative += 1\n",
    "        else:\n",
    "            total_under_negative += 0\n",
    "            total_under_positive += 0\n",
    "            \n",
    "        total += 1\n",
    "        \n",
    "        mc_integral_positive = (total_under_positive/total)*(d-c)*(b-a)\n",
    "        mc_integral_negative = (total_under_negative/total)*(d-c)*(b-a)\n",
    "        mc_integral = mc_integral_positive - mc_integral_negative\n",
    "        mc_integral_array.append(mc_integral)\n",
    "        \n",
    "        if(np.abs(mc_integral - trapezoid_integral) <= tolerance):\n",
    "            print(\"we've reached our tolerance at\", i, \"iterations!\")\n",
    "            return mc_integral_array\n",
    "        \n",
    "    return mc_integral_array"
   ]
  },
  {
   "cell_type": "markdown",
   "id": "02f4b3ce",
   "metadata": {},
   "source": [
    "Here I declare the boundars of interest (a,b). From there, I use function, get_c, and get_d to calculate the verticals limits of integration. I also declare the number of iterations, typically convering to the tolerance between 20,000 and 80,000 iterations.\n",
    "\n",
    "I will call the random number generators to get our random x and y arrays for the rest of the program. I will also call trapezoid_method to get a trapezoid sum for the rest of the program. Finally, I will call montecarlo_integration to calculate the Monte Carlo Integral and print the last content in the integral array corresponding to the true integral. For comparison I will also print the trapezoid integral."
   ]
  },
  {
   "cell_type": "code",
   "execution_count": null,
   "id": "66356a18",
   "metadata": {},
   "outputs": [],
   "source": [
    "#lets set our bounds\n",
    "N = 100000\n",
    "a = 0.0\n",
    "b = 1.75\n",
    "c = get_c(function, a, b, N)\n",
    "d = get_d(function, a, b, N)\n",
    "tolerance = 1.0e-6\n",
    "\n",
    "randomx = x_random_function(a, b, N)\n",
    "randomy = y_random_function(c, d, N)\n",
    "\n",
    "trapezoid_sum = trapezoid_method(function, a, b, N)\n",
    "mc_sums = montecarlo_integration(function, a, b, c, d, N, tolerance, randomx, randomy, trapezoid_sum)\n",
    "\n",
    "print(\"This is the trapezoid method:\", trapezoid_sum)\n",
    "print(\"This is the Monte Carlo Method:\", mc_sums[-1])"
   ]
  },
  {
   "cell_type": "markdown",
   "id": "9b7575c2",
   "metadata": {},
   "source": [
    "I will now plot the results!\n",
    "\n",
    "I call the x and y over and under functions scatter. I then create a range of x values and call function to plot our function at each point. The x limits are (a,b) and the y limits are (c,d). Scattering, labeling, coloring, legending, and adjusting point sizes accordingly and the plot is finished!\n",
    "\n",
    "I couldn't figure out a pretty way to display the Monte Carlo Integral value over the graph, so under Matt's advice I decided to use figtext which is notoriously tricky. As such, I have these rather bothersome '' and () in the display."
   ]
  },
  {
   "cell_type": "code",
   "execution_count": null,
   "id": "c7d08968",
   "metadata": {},
   "outputs": [],
   "source": [
    "x_random_misses = x_over_function(function, a, b, c, d, N, randomx, randomy)\n",
    "y_random_misses = y_over_function(function, a, b, c, d, N, randomx, randomy)\n",
    "x_random_hits = x_under_function(function, a, b, c, d, N, randomx, randomy)\n",
    "y_random_hits = y_under_function(function, a, b, c, d, N, randomx, randomy)\n",
    "\n",
    "x_graph = np.linspace(a, b, N)\n",
    "y_graph = function(x_graph)\n",
    "plt.plot(x_graph, function(x_graph), label = 'f(x) = cos(x)', c = 'black')\n",
    "\n",
    "plt.xlim([a, b])\n",
    "plt.ylim([c, d])\n",
    "plt.xlabel('x')\n",
    "plt.ylabel('f(x)')\n",
    "\n",
    "plt.scatter(x_random_misses, y_random_misses, c = 'red', s = 0.5, label = 'red points are misses')\n",
    "plt.scatter(x_random_hits, y_random_hits, c = 'blue', s = 0.5, label = 'blue points are hits')\n",
    "\n",
    "plt.hlines(0, a, b, color = \"black\")\n",
    "plt.legend(loc = 'upper right', framealpha = 1.0)\n",
    "plt.figtext(0.3, 1, s = f'{\"F(a,b) = \", mc_sums[-1]}')"
   ]
  },
  {
   "cell_type": "markdown",
   "id": "8adc75d5",
   "metadata": {},
   "source": [
    "Cos(x) can actually be solved analytically, so I decided it would be fun to produce a plot of my approximation for the integral over the number of iterations and compare to the analytic solution. Much of the coding here is the same as above, although I should note that I cannot easily plot the trapezoid integral approximation here.\n",
    "\n",
    "The trapezoid_method uses all N, whereas montecarlo_integration uses necessary N up to the tolerance. Therefore, I cannot plot these on the same interval. I could simply recall and redefine the trapezoid_method for the length of the array of integrals, but I don't see a point to that as this trapezoid integral will now be different to the one calculate above.\n",
    "\n",
    "The important takeaway from this fun little plot is that the function montecarlo_integration does appear to converge and my code works! This is proof that I did not get lucky when I called the function as Monte Carlo Integration is a gamblers game."
   ]
  },
  {
   "cell_type": "code",
   "execution_count": null,
   "id": "6bedca06",
   "metadata": {},
   "outputs": [],
   "source": [
    "#I will now plot i vs mc_sums\n",
    "analytic_solution = np.sin(7/4)\n",
    "iterations = np.arange(0, len(mc_sums), 1)\n",
    "\n",
    "plt.hlines(0, 0, len(mc_sums)-1, color = \"black\")\n",
    "plt.hlines(analytic_solution, 0, len(mc_sums)-1, color = \"black\", label = \"analytic solution\")\n",
    "\n",
    "\n",
    "plt.xlim([0, len(mc_sums)-1])\n",
    "plt.ylim(np.amin(mc_sums), np.amax(mc_sums))\n",
    "plt.xlabel('iterations i')\n",
    "plt.ylabel('integral value')\n",
    "\n",
    "plt.plot(iterations, mc_sums, c = 'red', label = 'mc_sums[i]')\n",
    "\n",
    "plt.legend(loc = 'lower right')"
   ]
  }
 ],
 "metadata": {
  "kernelspec": {
   "display_name": "Python 3 (ipykernel)",
   "language": "python",
   "name": "python3"
  },
  "language_info": {
   "codemirror_mode": {
    "name": "ipython",
    "version": 3
   },
   "file_extension": ".py",
   "mimetype": "text/x-python",
   "name": "python",
   "nbconvert_exporter": "python",
   "pygments_lexer": "ipython3",
   "version": "3.9.7"
  }
 },
 "nbformat": 4,
 "nbformat_minor": 5
}
