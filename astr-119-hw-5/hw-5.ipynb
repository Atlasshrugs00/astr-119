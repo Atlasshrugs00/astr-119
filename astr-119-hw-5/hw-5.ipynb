{
 "cells": [
  {
   "cell_type": "code",
   "execution_count": 1,
   "id": "1d75fa92",
   "metadata": {},
   "outputs": [],
   "source": [
    "%matplotlib inline\n",
    "import numpy as np\n",
    "import matplotlib.pyplot as plt"
   ]
  },
  {
   "cell_type": "code",
   "execution_count": 2,
   "id": "6def7313",
   "metadata": {},
   "outputs": [],
   "source": [
    "#here we define the function we want to integrate\n",
    "def function(x):\n",
    "    a = -2\n",
    "    b = 10\n",
    "    return np.exp(a*x)*np.cos(b*x)"
   ]
  },
  {
   "cell_type": "code",
   "execution_count": 3,
   "id": "e6b22245",
   "metadata": {},
   "outputs": [],
   "source": [
    "#here we define the core to the trapezoid method\n",
    "def trapezoid_core(f, x, h):\n",
    "    return 0.5*h*(f(x + h) + f(x))"
   ]
  },
  {
   "cell_type": "code",
   "execution_count": 4,
   "id": "c4bb1e14",
   "metadata": {},
   "outputs": [],
   "source": [
    "#here we define a function to perform the trapezoid sum\n",
    "def trapezoid_method(f, a, b, N, answer, tolerance):\n",
    "    #f is the function to integrate\n",
    "    #a is lower lim\n",
    "    #b is upper lim\n",
    "    #N is number of trapezoids\n",
    "    \n",
    "    x = np.linspace(a, b, N)\n",
    "    h = x[1] - x[0]\n",
    "    #h is a tiny step\n",
    "    \n",
    "    #here we define the value of the integral\n",
    "    integral = 0.0\n",
    "    \n",
    "    #we want error less than 1.0e-6\n",
    "    for i in range(0, len(x) -1, 1): #for trapezoid we jump 1 x step and we go from x[0]=a to the second to last x[]\n",
    "        integral += trapezoid_core(f, x[i], h)\n",
    "        \n",
    "        if(np.abs(answer-integral) <= tolerance):\n",
    "            print(\"it takes\", i, \"iterations for TRAPEZOID METHOD to be within the tolerance\")\n",
    "            return integral\n",
    "    \n",
    "    print(\"this is not within tolerance; the number of iterations is \", i)\n",
    "    return integral"
   ]
  },
  {
   "cell_type": "code",
   "execution_count": 5,
   "id": "a9eea38d",
   "metadata": {},
   "outputs": [],
   "source": [
    "def simpson_core(f, x, h):\n",
    "    return h*(f(x)+4*f(x+h)+f(x+2*h))/3"
   ]
  },
  {
   "cell_type": "code",
   "execution_count": 6,
   "id": "51bf96a2",
   "metadata": {},
   "outputs": [],
   "source": [
    "def simpson_method(f, a, b, N, answer, tolerance): \n",
    "    x = np.linspace(a, b, N)\n",
    "    h = x[1] - x[0]\n",
    "    #h is a tiny step\n",
    "    integral = 0.0\n",
    "    \n",
    "    for i in range(0, len(x)-2, 2):\n",
    "        integral += simpson_core(f, x[i], h)\n",
    "        if(np.abs(answer-integral) <= tolerance):\n",
    "            print(\"it takes\", i, \"iterations for SIMPSON METHOD to be within the tolerance\")\n",
    "            return integral\n",
    "    #apply simpsons rule over the last interval if N is even\n",
    "    if(N%2 == 0):\n",
    "        integral += simpson_core(f, x[-2], 0.5*h)\n",
    "        if(np.abs(answer-integral) <= tolerance):\n",
    "            print(\"it takes\", i, \"iterations for SIMPSON METHOD to be within the tolerance\")\n",
    "            return integral\n",
    "    else:\n",
    "        if(np.abs(answer-integral) <= tolerance):\n",
    "            print(\"it takes\", i, \"iterations for SIMPSON METHOD to be within the tolerance\")\n",
    "            return integral\n",
    "    \n",
    "    print(\"this is not within tolerance; the number Of iterations is \", i)\n",
    "    return integral"
   ]
  },
  {
   "cell_type": "code",
   "execution_count": 7,
   "id": "85fb61e1",
   "metadata": {},
   "outputs": [],
   "source": [
    "def romberg_core(f, a, b, i):\n",
    "    h = b - a\n",
    "    dh = h/2.0**(i)\n",
    "    K = h/2.0**(i+1)\n",
    "    \n",
    "    M = 0.0\n",
    "    for j in range(2**i):\n",
    "        M += f(a + 0.5*dh + j*dh)\n",
    "    \n",
    "    return K*M"
   ]
  },
  {
   "cell_type": "code",
   "execution_count": 8,
   "id": "3185fa40",
   "metadata": {},
   "outputs": [],
   "source": [
    "def romberg_integration(f, a, b, tol):\n",
    "    i = 0\n",
    "    imax = 1000\n",
    "    \n",
    "    #estimate error value\n",
    "    delta = 100.0*np.fabs(tol)\n",
    "    \n",
    "    #set an array of integral answers\n",
    "    I = np.zeros(imax, dtype = float)\n",
    "    \n",
    "    I[0] = 0.5*(b-a)*(f(a)+f(b))\n",
    "    \n",
    "    i += 1\n",
    "    \n",
    "    while(delta > tol):\n",
    "        I[i] = 0.5*I[i-1] + romberg_core(f, a, b, i)\n",
    "        \n",
    "        delta = np.fabs((I[i]-I[i-1])/I[i])\n",
    "        \n",
    "        if(delta > tol):\n",
    "            i += 1\n",
    "            if(i>imax):\n",
    "                print(\"max iterations reached!\")\n",
    "                raise StopIteration('stopping iterations after ', i)\n",
    "                \n",
    "    print(\"it takes\", i, \"iterations for ROMBERG INTEGRATION to reach the desired tolerance\")\n",
    "    return I[i]"
   ]
  },
  {
   "cell_type": "code",
   "execution_count": 9,
   "id": "84bde00b",
   "metadata": {},
   "outputs": [
    {
     "name": "stdout",
     "output_type": "stream",
     "text": [
      "it takes 6056 iterations for TRAPEZOID METHOD to be within the tolerance\n",
      "definite integral is 0.01919498262323951\n",
      "\n",
      "it takes 7070 iterations for SIMPSON METHOD to be within the tolerance\n",
      "definite intgral is 0.019195033431106227\n",
      "\n",
      "it takes 26 iterations for ROMBERG INTEGRATION to reach the desired tolerance\n",
      "the integral is 0.019194869607236317\n"
     ]
    }
   ],
   "source": [
    "tolerance = 1.0e-6\n",
    "answer = 0.019195\n",
    "\n",
    "#im going to use N = some large number for the most accurate answer\n",
    "\n",
    "print(\"definite integral is\", trapezoid_method(function, 0, np.pi, 10000, answer, tolerance))\n",
    "print(\"\") #just to skip a line\n",
    "print(\"definite intgral is\", simpson_method(function, 0, np.pi, 10000, answer, tolerance))\n",
    "print(\"\") #just to skip a line\n",
    "print(\"the integral is\", romberg_integration(function, 0, np.pi, tolerance))"
   ]
  },
  {
   "cell_type": "code",
   "execution_count": null,
   "id": "cf21c368",
   "metadata": {},
   "outputs": [],
   "source": []
  }
 ],
 "metadata": {
  "kernelspec": {
   "display_name": "Python 3 (ipykernel)",
   "language": "python",
   "name": "python3"
  },
  "language_info": {
   "codemirror_mode": {
    "name": "ipython",
    "version": 3
   },
   "file_extension": ".py",
   "mimetype": "text/x-python",
   "name": "python",
   "nbconvert_exporter": "python",
   "pygments_lexer": "ipython3",
   "version": "3.9.7"
  }
 },
 "nbformat": 4,
 "nbformat_minor": 5
}
